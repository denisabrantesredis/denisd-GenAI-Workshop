{
  "cells": [
    {
      "cell_type": "markdown",
      "metadata": {
        "colab_type": "text",
        "id": "view-in-github"
      },
      "source": [
        "<a href=\"https://colab.research.google.com/github/Redislabs-Solution-Architects/Redis-Workshops/blob/main/01-RedisJSON_Search/01-RedisJSON_Search.ipynb\" target=\"_parent\"><img src=\"https://colab.research.google.com/assets/colab-badge.svg\" alt=\"Open In Colab\"/></a>"
      ]
    },
    {
      "cell_type": "markdown",
      "metadata": {
        "id": "LDFnzeLwjmXL"
      },
      "source": [
        "# RedisJSON and RediSearch\n",
        "\n",
        "![Redis](https://redis.io/wp-content/uploads/2024/04/Logotype.svg?auto=webp&quality=85,75&width=120)\n",
        "\n",
        "This notebook is an adapted and simplified version of the RedisInsight QuickGuide \"Working with JSON\".\n",
        "\n",
        "For the full experience we'd recommend installing Redis Insight and going through tutorial there.\n",
        "\n",
        "https://redis.com/redis-enterprise/redis-insight/"
      ]
    },
    {
      "cell_type": "code",
      "execution_count": null,
      "metadata": {
        "colab": {
          "base_uri": "https://localhost:8080/"
        },
        "id": "maAiICvM-cTX",
        "outputId": "363e893a-8a1c-46c7-932a-3245458bafb4"
      },
      "outputs": [],
      "source": [
        "# Install the requirements\n",
        "!pip install -q redis"
      ]
    },
    {
      "cell_type": "markdown",
      "metadata": {},
      "source": [
        "### Install Redis Stack locally\n",
        "\n",
        "This installs the Redis Stack database for local usage if you cannot or do not want to create a Redis Cloud database, and it installs the `redis-cli` that will be used for checking database connectivity, etc."
      ]
    },
    {
      "cell_type": "code",
      "execution_count": null,
      "metadata": {
        "colab": {
          "base_uri": "https://localhost:8080/"
        },
        "id": "6CjMuWlOxYoZ",
        "outputId": "58221221-a2e4-4320-9cf6-daea8679761f"
      },
      "outputs": [],
      "source": [
        "%%sh\n",
        "curl -fsSL https://packages.redis.io/gpg | sudo gpg --dearmor -o /usr/share/keyrings/redis-archive-keyring.gpg \n",
        "echo \"deb [signed-by=/usr/share/keyrings/redis-archive-keyring.gpg] https://packages.redis.io/deb $(lsb_release -cs) main\" | sudo tee /etc/apt/sources.list.d/redis.list \n",
        "sudo apt-get update  > /dev/null 2>&1\n",
        "sudo apt-get install redis-stack-server  > /dev/null 2>&1\n",
        "redis-stack-server --daemonize yes \n"
      ]
    },
    {
      "cell_type": "markdown",
      "metadata": {},
      "source": [
        "### Setup Redis connection\n",
        "***Note - Replace Redis connection values if using a Redis Cloud instance!***"
      ]
    },
    {
      "cell_type": "code",
      "execution_count": null,
      "metadata": {
        "id": "x47s7mlR_zYB"
      },
      "outputs": [],
      "source": [
        "import os\n",
        "\n",
        "REDIS_HOST = os.getenv(\"REDIS_HOST\", \"localhost\")\n",
        "REDIS_PORT = os.getenv(\"REDIS_PORT\", \"6379\")\n",
        "REDIS_PASSWORD = os.getenv(\"REDIS_PASSWORD\", \"\")\n",
        "# Replace values above with your own if using Redis Cloud instance\n",
        "#REDIS_HOST=\"redis-18374.c253.us-central1-1.gce.cloud.redislabs.com\"\n",
        "#REDIS_PORT=18374\n",
        "#REDIS_PASSWORD=\"1TNxTEdYRDgIDKM2gDfasupCADXXXX\"\n",
        "\n",
        "# Shortcut for redis-cli $REDIS_CONN command\n",
        "# If SSL is enabled on the endpoint add --tls\n",
        "if REDIS_PASSWORD!=\"\":\n",
        "  os.environ[\"REDIS_CONN\"]=f\"-h {REDIS_HOST} -p {REDIS_PORT} -a {REDIS_PASSWORD} --no-auth-warning\"\n",
        "else:\n",
        "  os.environ[\"REDIS_CONN\"]=f\"-h {REDIS_HOST} -p {REDIS_PORT}\"\n",
        "\n",
        "# If SSL is enabled on the endpoint, use rediss:// as the URL prefix\n",
        "REDIS_URL = f\"redis://:{REDIS_PASSWORD}@{REDIS_HOST}:{REDIS_PORT}\"\n",
        "INDEX_NAME = f\"qna:idx\"\n",
        "\n",
        "# Test Redis connection\n",
        "!redis-cli $REDIS_CONN PING"
      ]
    },
    {
      "cell_type": "code",
      "execution_count": null,
      "metadata": {
        "colab": {
          "base_uri": "https://localhost:8080/"
        },
        "id": "DbKb8mnWQO-5",
        "outputId": "46230c24-a001-4a41-9984-7543409d4486"
      },
      "outputs": [],
      "source": [
        "import redis\n",
        "\n",
        "r = redis.Redis(\n",
        "  host=REDIS_HOST,\n",
        "  port=REDIS_PORT,\n",
        "  password=REDIS_PASSWORD\n",
        ")\n",
        "\n",
        "r.ping()"
      ]
    },
    {
      "cell_type": "markdown",
      "metadata": {
        "id": "x1V1E2Nmjva4"
      },
      "source": [
        "## RedisJSON\n",
        "\n",
        "[RedisJSON](https://redis.io/docs/latest/develop/data-types/json/) adds the JSON data type to Redis so you can work with JSON data natively in Redis, without treating the entire JSON as one big string and constantly serializing/deserializing JSON on the client.\n",
        "\n",
        "With a client library like `redis-py` (Python) you can use commands like `redis.json().get()` and `redis.json().set()`, and in the Redis CLI `JSON.GET`, `JSON.SET`, and others. \n",
        "\n",
        "See full list of RedisJSON commands here: https://redis.io/commands/?group=json \n",
        "\n",
        "Python documentation: https://redis-py.readthedocs.io/en/stable/redismodules.html#redisjson-commands\n"
      ]
    },
    {
      "cell_type": "code",
      "execution_count": null,
      "metadata": {
        "id": "dMtz_Ak7VOTk"
      },
      "outputs": [],
      "source": [
        "# Create sample data of schools\n",
        "schools = [\n",
        "    {\"name\":\"Hall School\",\"description\":\"Spanning 10 states, this school award-winning curriculum includes a comprehensive reading system (from letter recognition and phonics to reading full-length books), as well as math, science, social studies, and even  philosophy.\",\"class\":\"independent\",\"type\":[\"traditional\"],\"address\":{\"city\":\"London\",\"street\":\"Manor Street\"},\"students\":342,\"location\":\"51.445417, -0.258352\",\"status_log\":[\"new\",\"operating\"]},\n",
        "    {\"name\":\"Garden School\",\"description\":\"Garden School is a new and innovative outdoor teaching and learning experience, offering rich and varied activities in a natural environment to children and families.\",\"class\":\"state\",\"type\":[\"forest\",\"montessori\"],\"address\":{\"city\":\"London\",\"street\":\"Gordon Street\"},\"students\":1452,\"location\":\"51.402926, -0.321523\",\"status_log\":[\"new\",\"operating\"]},\n",
        "    {\"name\":\"Gillford School\",\"description\":\"Gillford School is an inclusive learning centre welcoming people from all walks of life, here invited to step into their role as regenerative agents, creating new pathways into the future and inciting an international movement of cultural, land, and social transformation.\",\"class\":\"private\",\"type\":[\"democratic\",\"waldorf\"],\"address\":{\"city\":\"Goudhurst\",\"street\":\"Goudhurst\"},\"students\":721,\"location\":\"51.112685, 0.451076\",\"status_log\":[\"new\",\"operating\",\"closed\"]},\n",
        "    {\"name\":\"Forest School\",\"description\":\"The philosophy behind Forest School is based upon the desire to provide young children with an education that encourages appreciation of the wide world in nature while achieving independence, confidence and high self-esteem. \",\"class\":\"independent\",\"type\":[\"forest\",\"montessori\",\"democratic\"],\"address\":{\"city\":\"Oxford\",\"street\":\"Trident Street\"},\"students\":1200,\"location\":\"51.781756, -1.123196\",\"status_log\":[\"new\",\"operating\"]}\n",
        "\n",
        "]\n",
        "\n",
        "# Load data in Redis as JSON\n",
        "for id,school in enumerate(schools):\n",
        "    #print(school)\n",
        "    r.json().set(f\"school_json:{id}\", '.', school)"
      ]
    },
    {
      "cell_type": "code",
      "execution_count": null,
      "metadata": {
        "colab": {
          "base_uri": "https://localhost:8080/"
        },
        "id": "5NtYQYlPXCIO",
        "outputId": "5d06a16a-e912-4106-e8df-c488d5369b52"
      },
      "outputs": [],
      "source": [
        "# Verify that keys were inserted into database\n",
        "!redis-cli $REDIS_CONN JSON.GET school_json:1 $\n",
        "!redis-cli $REDIS_CONN keys 'school_json:*'"
      ]
    },
    {
      "cell_type": "code",
      "execution_count": null,
      "metadata": {
        "colab": {
          "base_uri": "https://localhost:8080/"
        },
        "id": "TaXmD2TFap-t",
        "outputId": "b263527f-9f06-4ae3-c741-bf9dbcbd655b"
      },
      "outputs": [],
      "source": [
        "# Retrieve entire JSON doc\n",
        "res=r.json().get('school_json:0','$')\n",
        "print(res)"
      ]
    },
    {
      "cell_type": "code",
      "execution_count": null,
      "metadata": {
        "colab": {
          "base_uri": "https://localhost:8080/"
        },
        "id": "PUfj0epdWGbz",
        "outputId": "9dfd6921-d009-458d-c063-a1cfdfca311d"
      },
      "outputs": [],
      "source": [
        "# Retrieve single property\n",
        "res=r.json().get('school_json:0','$.name')\n",
        "print(res)\n",
        "\n",
        "# TODO: Try modifying this line to retreive:\n",
        "# - Embedded object ($.address)\n",
        "# - Element of the array \"$.status_log[0]\":"
      ]
    },
    {
      "cell_type": "code",
      "execution_count": null,
      "metadata": {
        "colab": {
          "base_uri": "https://localhost:8080/"
        },
        "id": "u9kw-6QdbfpV",
        "outputId": "05195c16-d93d-4961-f52c-0d153c7da5b6"
      },
      "outputs": [],
      "source": [
        "# Read number of students\n",
        "students=r.json().get('school_json:0','$.students')\n",
        "print(students)\n",
        "\n",
        "# Set new number\n",
        "r.json().set('school_json:0','$.students',350)\n",
        "r.json().get('school_json:0','$.students')"
      ]
    },
    {
      "cell_type": "code",
      "execution_count": null,
      "metadata": {
        "colab": {
          "base_uri": "https://localhost:8080/"
        },
        "id": "09i6hh4acIh_",
        "outputId": "6a0ebd79-cf28-424d-9401-be8fc019cf49"
      },
      "outputs": [],
      "source": [
        "# Atomic increment for number of students\n",
        "r.json().numincrby('school_json:0','$.students',1)"
      ]
    },
    {
      "cell_type": "markdown",
      "metadata": {
        "id": "jpJW1d87lIJr"
      },
      "source": [
        "## RediSearch\n",
        "\n",
        "[RediSearch](https://redis.io/docs/latest/develop/interact/search-and-query/) adds the ability to query data in your HASH or JSON data structures, essentially turning Redis into a docuemnt database.\n",
        "\n",
        "With RediSearch you declare indices once and then every database key matching the prefix and schema, defined in the index, will be automatically added to the index in real-time.\n",
        "\n",
        "For the full list of RediSearch commands see: https://redis.io/commands/?group=search \n",
        "\n",
        "Python documentation: https://redis-py.readthedocs.io/en/stable/redismodules.html#redisearch-commands "
      ]
    },
    {
      "cell_type": "code",
      "execution_count": null,
      "metadata": {
        "colab": {
          "base_uri": "https://localhost:8080/"
        },
        "id": "O_2g-lCadPsB",
        "outputId": "77c02c9d-6893-414a-e822-927c25b88c9b"
      },
      "outputs": [],
      "source": [
        "from redis.commands.search.field import (\n",
        "    NumericField,\n",
        "    TagField,\n",
        "    TextField,\n",
        "    VectorField,\n",
        ")\n",
        "from redis.commands.search.indexDefinition import IndexDefinition, IndexType\n",
        "from redis.commands.search.query import Query\n",
        "\n",
        "schema = (\n",
        "    TextField(\"$.name\", as_name=\"name\"),\n",
        "    TextField(\"$.description\", as_name=\"description\"),\n",
        "    TagField(\"$.address.city\", as_name=\"city\"), \n",
        "    NumericField(\"$.students\", as_name=\"students\")\n",
        ")\n",
        "\n",
        "r.ft(\"idx:schools_json\").create_index(\n",
        "    schema, \n",
        "    definition=IndexDefinition(prefix=[\"school_json:\"], \n",
        "    index_type=IndexType.JSON)\n",
        ")"
      ]
    },
    {
      "cell_type": "code",
      "execution_count": null,
      "metadata": {
        "colab": {
          "base_uri": "https://localhost:8080/",
          "height": 112
        },
        "id": "PKMJeXfpe9Xp",
        "outputId": "567211cf-78c6-422a-af9a-7b9fc6d00dda"
      },
      "outputs": [],
      "source": [
        "import pandas as pd\n",
        "\n",
        "# Return the entire document for all keys matching the search term\n",
        "res=r.ft(\"idx:schools_json\").search(\"nature\")\n",
        "res_df = pd.DataFrame([t.__dict__ for t in res.docs ])\n",
        "res_df"
      ]
    },
    {
      "cell_type": "code",
      "execution_count": null,
      "metadata": {
        "colab": {
          "base_uri": "https://localhost:8080/",
          "height": 112
        },
        "id": "OGKiSpQ-hUMp",
        "outputId": "e06d30fb-6dcc-46f8-c8f3-512962e02182"
      },
      "outputs": [],
      "source": [
        "# Return selected fields only\n",
        "query=Query(\"nature\") \\\n",
        "   .return_field(\"$.address.city\", as_field=\"city\") \\\n",
        "   .return_field(\"$.name\", as_field=\"name\")\n",
        "   \n",
        "res=r.ft(\"idx:schools_json\").search(query)\n",
        "res_df = pd.DataFrame([t.__dict__ for t in res.docs ])\n",
        "res_df"
      ]
    },
    {
      "cell_type": "code",
      "execution_count": null,
      "metadata": {
        "colab": {
          "base_uri": "https://localhost:8080/",
          "height": 112
        },
        "id": "yMK3P7g5j7v5",
        "outputId": "1c295c3e-ffca-4d97-968b-114b37c33006"
      },
      "outputs": [],
      "source": [
        "# Multi-field query\n",
        "query=Query('@city:{London} @students:[0, 10000]') \\\n",
        "   .return_field(\"$.address.city\", as_field=\"city\") \\\n",
        "   .return_field(\"$.name\", as_field=\"name\") \\\n",
        "   .return_field(\"$.students\", as_field=\"students\")\n",
        "   \n",
        "res=r.ft(\"idx:schools_json\").search(query)\n",
        "#print(res)\n",
        "res_df = pd.DataFrame([t.__dict__ for t in res.docs ])\n",
        "res_df"
      ]
    },
    {
      "cell_type": "markdown",
      "metadata": {},
      "source": [
        "#### Cleanup\n",
        "(Optional) Delete all keys and indexes from the database. "
      ]
    },
    {
      "cell_type": "code",
      "execution_count": null,
      "metadata": {},
      "outputs": [],
      "source": [
        "###-- FLUSHDB will wipe out the entire database!!! Use with caution --###\n",
        "# !redis-cli $REDIS_CONN flushdb"
      ]
    }
  ],
  "metadata": {
    "colab": {
      "include_colab_link": true,
      "provenance": []
    },
    "kernelspec": {
      "display_name": "Python 3",
      "name": "python3"
    },
    "language_info": {
      "name": "python",
      "version": "3.9.6"
    }
  },
  "nbformat": 4,
  "nbformat_minor": 0
}
